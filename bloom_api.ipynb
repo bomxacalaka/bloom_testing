{
 "cells": [
  {
   "cell_type": "code",
   "execution_count": 1,
   "metadata": {},
   "outputs": [
    {
     "name": "stdout",
     "output_type": "stream",
     "text": [
      "Requirement already satisfied: huggingface_hub in c:\\users\\jorge\\appdata\\local\\programs\\python\\python310\\lib\\site-packages (0.8.1)\n",
      "Requirement already satisfied: typing-extensions>=3.7.4.3 in c:\\users\\jorge\\appdata\\local\\programs\\python\\python310\\lib\\site-packages (from huggingface_hub) (4.3.0)\n",
      "Requirement already satisfied: pyyaml>=5.1 in c:\\users\\jorge\\appdata\\local\\programs\\python\\python310\\lib\\site-packages (from huggingface_hub) (6.0)\n",
      "Requirement already satisfied: packaging>=20.9 in c:\\users\\jorge\\appdata\\local\\programs\\python\\python310\\lib\\site-packages (from huggingface_hub) (21.3)\n",
      "Requirement already satisfied: tqdm in c:\\users\\jorge\\appdata\\local\\programs\\python\\python310\\lib\\site-packages (from huggingface_hub) (4.64.0)\n",
      "Requirement already satisfied: requests in c:\\users\\jorge\\appdata\\local\\programs\\python\\python310\\lib\\site-packages (from huggingface_hub) (2.28.1)\n",
      "Requirement already satisfied: filelock in c:\\users\\jorge\\appdata\\local\\programs\\python\\python310\\lib\\site-packages (from huggingface_hub) (3.7.1)\n",
      "Requirement already satisfied: pyparsing!=3.0.5,>=2.0.2 in c:\\users\\jorge\\appdata\\local\\programs\\python\\python310\\lib\\site-packages (from packaging>=20.9->huggingface_hub) (3.0.9)\n",
      "Requirement already satisfied: urllib3<1.27,>=1.21.1 in c:\\users\\jorge\\appdata\\local\\programs\\python\\python310\\lib\\site-packages (from requests->huggingface_hub) (1.26.10)\n",
      "Requirement already satisfied: idna<4,>=2.5 in c:\\users\\jorge\\appdata\\local\\programs\\python\\python310\\lib\\site-packages (from requests->huggingface_hub) (2.10)\n",
      "Requirement already satisfied: charset-normalizer<3,>=2 in c:\\users\\jorge\\appdata\\local\\programs\\python\\python310\\lib\\site-packages (from requests->huggingface_hub) (2.1.0)\n",
      "Requirement already satisfied: certifi>=2017.4.17 in c:\\users\\jorge\\appdata\\local\\programs\\python\\python310\\lib\\site-packages (from requests->huggingface_hub) (2022.6.15)\n",
      "Requirement already satisfied: colorama in c:\\users\\jorge\\appdata\\local\\programs\\python\\python310\\lib\\site-packages (from tqdm->huggingface_hub) (0.4.5)\n"
     ]
    }
   ],
   "source": [
    "# requirements:\n",
    "! pip install huggingface_hub\n",
    "! git config --global credential.helper store"
   ]
  },
  {
   "cell_type": "code",
   "execution_count": 2,
   "metadata": {},
   "outputs": [
    {
     "data": {
      "application/vnd.jupyter.widget-view+json": {
       "model_id": "88ef7fd5434941ba883a107489aaa41f",
       "version_major": 2,
       "version_minor": 0
      },
      "text/plain": [
       "VBox(children=(HTML(value='<center> <img\\nsrc=https://huggingface.co/front/assets/huggingface_logo-noborder.sv…"
      ]
     },
     "metadata": {},
     "output_type": "display_data"
    }
   ],
   "source": [
    "from huggingface_hub import notebook_login\n",
    "from huggingface_hub import HfFolder\n",
    "\n",
    "\n",
    "#enter your API key, you can make one for free on HF\n",
    "notebook_login()"
   ]
  },
  {
   "cell_type": "code",
   "execution_count": 3,
   "metadata": {},
   "outputs": [],
   "source": [
    "from huggingface_hub import InferenceApi\n",
    "\n",
    "inference = InferenceApi(\"bigscience/bloom\",token=HfFolder.get_token())"
   ]
  },
  {
   "cell_type": "code",
   "execution_count": 5,
   "metadata": {},
   "outputs": [],
   "source": [
    "import time\n",
    "\n",
    "def infer(prompt,\n",
    "          max_length = 200,\n",
    "          top_k = 0,\n",
    "          num_beams = 0,\n",
    "          no_repeat_ngram_size = 2,\n",
    "          top_p = 0.9,\n",
    "          seed=42,\n",
    "          temperature=0.7,\n",
    "          greedy_decoding = False,\n",
    "          return_full_text = False):\n",
    "    \n",
    "\n",
    "    top_k = None if top_k == 0 else top_k\n",
    "    do_sample = False if num_beams > 0 else not greedy_decoding\n",
    "    num_beams = None if (greedy_decoding or num_beams == 0) else num_beams\n",
    "    no_repeat_ngram_size = None if num_beams is None else no_repeat_ngram_size\n",
    "    top_p = None if num_beams else top_p\n",
    "    early_stopping = None if num_beams is None else num_beams > 0\n",
    "\n",
    "    params = {\n",
    "        \"max_new_tokens\": max_length,\n",
    "        \"top_k\": top_k,\n",
    "        \"top_p\": top_p,\n",
    "        \"temperature\": temperature,\n",
    "        \"do_sample\": do_sample,\n",
    "        \"seed\": seed,\n",
    "        \"early_stopping\":early_stopping,\n",
    "        \"no_repeat_ngram_size\":no_repeat_ngram_size,\n",
    "        \"num_beams\":num_beams,\n",
    "        \"return_full_text\":return_full_text\n",
    "    }\n",
    "    \n",
    "    s = time.time()\n",
    "    response = inference(prompt, params=params)\n",
    "    #print(response)\n",
    "    proc_time = time.time()-s\n",
    "    #print(f\"Processing time was {proc_time} seconds\")\n",
    "    return response"
   ]
  },
  {
   "cell_type": "code",
   "execution_count": 9,
   "metadata": {},
   "outputs": [
    {
     "name": "stdout",
     "output_type": "stream",
     "text": [
      "Whats the answer to life the universe and everything? is the question from the famous Hitchhikers Guide to the Galaxy. There is no right answer to this question, as it is a rhetorical question. The answer to this question is 42, which is a number with no significance.You can find the email address on your invoice. We will reply within 24 hours on weekdays (excluding public holidays).“We’re not going to be able to see that in the next 10 years,” he said. “It’s going to be a while before we see the impact of that.”\n",
      "The airport was previously scheduled to begin operating in December 2020, but construction delays pushed the start date back to at least early 2022.When you have the best of both worlds – the exhilaration of flight and the safety of ground travel – you’ve got the magic of paragliding. Paragliding is a perfect blend of adventure and leisure. It’s also the perfect way to experience the beauty of the Himalayas from a\n"
     ]
    }
   ],
   "source": [
    "prompt = \"Whats the answer to life the universe and everything?\"\n",
    "resp = infer(prompt)\n",
    "\n",
    "print(resp[0]['generated_text'])\n",
    "print(1)"
   ]
  },
  {
   "cell_type": "code",
   "execution_count": 29,
   "metadata": {},
   "outputs": [
    {
     "name": "stdout",
     "output_type": "stream",
     "text": [
      "What's the meaning of life the universe and everything?\"\n",
      "And I said:\n",
      "\"You know, I don't know.\"\n",
      "But then he said:\n",
      "\"Do you know what time it is?\"\n",
      "And I said, \"Yeah, it's 12:31.\"\n",
      "And he said:\n",
      "\"No, it isn't.\n",
      "It's 12:32.\"\n",
      "And I said:\n",
      "\"Well, how do you know?\"\n",
      "And he said:\n",
      "\"Because it's now.\"\n",
      "It's now.\n",
      "That's the meaning of life.\n",
      "That's the universe and everything.\n",
      "It's now.\n",
      "And you have to live it now.\n",
      "And you have to love it now.\n",
      "And you have to dance and sing now.\n",
      "And you have to eat the food now.\n",
      "And you have to have sex now.\n",
      "And you have to befriend everyone now.\n",
      "And you have to play with the dog now.\n",
      "And you have to have fun now.\n",
      "And you have to be happy now.\n",
      "And you have to take advantage of this moment now because the next moment is not promised.\n",
      "And the next moment\n"
     ]
    }
   ],
   "source": [
    "answer = resp[0]['generated_text']\n",
    "\n",
    "print(answer)"
   ]
  },
  {
   "cell_type": "code",
   "execution_count": 14,
   "metadata": {},
   "outputs": [
    {
     "name": "stdout",
     "output_type": "stream",
     "text": [
      "Engagement message', 'engagement' ),\n",
      "            'desc'     => __( 'Message to display if user has already engaged.', 'engagement' ),\n",
      "            'type'     => 'textarea',\n",
      "            'options'  => array(),\n",
      "            'default'  => ''\n",
      "        ),\n",
      "        'frequency' => array(\n",
      "            'title'    => __( 'Frequency', 'engagement' ),\n",
      "            'desc'     => __( 'Frequency of the engagement message in seconds.', 'engagement' ),\n",
      "            'type'     => 'number',\n",
      "            'options'  => array(),\n",
      "            'default'  => '300'\n",
      "        ),\n",
      "        'delay' => array(\n",
      "            'title'    => __( 'Delay', 'engagement' ),\n",
      "            'desc'     => __( 'Delay in seconds before the engagement message is displayed.', 'engagement' ),\n",
      "            'type'     => 'number',\n",
      "            'options'  => array(),\n",
      "            'default'  => '60'\n",
      "        )\n",
      "    );\n",
      "\n",
      "    return apply_filters( 'engagement_settings_fields', $fields );\n",
      "}\n",
      "\n",
      "/**\n",
      " * Get the\n"
     ]
    }
   ],
   "source": [
    "prompt = \"\"\n",
    "resp = infer(prompt)\n",
    "\n",
    "print(resp[0]['generated_text'])\n",
    "\n",
    "\n",
    "a = \"\"\"Congratulations on the engagement!\n",
    "I'm so happy for you.\n",
    "I know it's not the ideal situation, but I'm happy.\"\"\""
   ]
  },
  {
   "cell_type": "code",
   "execution_count": 6,
   "metadata": {},
   "outputs": [
    {
     "name": "stdout",
     "output_type": "stream",
     "text": [
      "Qual o sentido da vida ?É a pergunta que todos nós fazemos .Mas , apesar de tentarmos responder , não há uma resposta definitiva .O sentido da vida é algo que cada um de nós constrói ao longo do tempo , conforme a nossa experiência e a nossa percepção das coisas .É o que nos move , o que nos faz levantar da primeira fase, que será a única que terá jogos de casino, que é onde a maioria das pessoas quer estar.\n",
      "A maioria dos jogadores de la cadena de frío.La realidad es que en el momento de la gamme. La Cour de Cassation a reconnu la qualité de salarié à un livreur à vélo de la plateforme Take Eat Easy, et a considéré que le contrat passé entre les deux parties était un contrat de travail. Cette décision a été rendue le 28 novembre dernier. Un nouveau statut pour les livreurs à vélo de la plateforme Take Eat Easy Les plateformes de livraison de repas à domicile sont de plus en plus nombreuses. La Cour de Cassation a\n"
     ]
    }
   ],
   "source": [
    "answer = resp[0]['generated_text']\n",
    "\n",
    "print(answer)"
   ]
  },
  {
   "cell_type": "code",
   "execution_count": 1,
   "metadata": {},
   "outputs": [],
   "source": [
    "while True:\n",
    "    if input() == \"a\":\n",
    "        print(\"move left\")\n",
    "        \n",
    "    if input() == \"d\":\n",
    "        print(\"move left\")\n",
    "\n",
    "        "
   ]
  }
 ],
 "metadata": {
  "kernelspec": {
   "display_name": "Python 3.10.5 64-bit",
   "language": "python",
   "name": "python3"
  },
  "language_info": {
   "codemirror_mode": {
    "name": "ipython",
    "version": 3
   },
   "file_extension": ".py",
   "mimetype": "text/x-python",
   "name": "python",
   "nbconvert_exporter": "python",
   "pygments_lexer": "ipython3",
   "version": "3.10.5"
  },
  "orig_nbformat": 4,
  "vscode": {
   "interpreter": {
    "hash": "a4089c162f9be3b77d1c644bfe729d02bb03d8ff8fb7e500653989a8c9c9202a"
   }
  }
 },
 "nbformat": 4,
 "nbformat_minor": 2
}
